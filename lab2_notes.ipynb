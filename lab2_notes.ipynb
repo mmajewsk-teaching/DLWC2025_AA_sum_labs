{
 "cells": [
  {
   "cell_type": "code",
   "execution_count": 5,
   "id": "e3904e60-1af7-4396-b196-59f2d50fc959",
   "metadata": {},
   "outputs": [],
   "source": [
    "import torch\n",
    "import numpy as np\n",
    "import matplotlib.pyplot as plt\n",
    "#from sklearn.decomposition import PCA\n",
    "from transformers import AutoTokenizer, AutoModel"
   ]
  },
  {
   "cell_type": "code",
   "execution_count": 2,
   "id": "51cbb3e2-00d8-4239-9e05-c62bfbd99e28",
   "metadata": {},
   "outputs": [
    {
     "name": "stdout",
     "output_type": "stream",
     "text": [
      "Using device: cpu\n"
     ]
    }
   ],
   "source": [
    "device = torch.device(\"cuda\" if torch.cuda.is_available() else \"cpu\")\n",
    "print(f\"Using device: {device}\")"
   ]
  },
  {
   "cell_type": "code",
   "execution_count": 3,
   "id": "ffb43b49-f8c9-4d8d-83ba-3138387054b3",
   "metadata": {},
   "outputs": [
    {
     "name": "stdout",
     "output_type": "stream",
     "text": [
      "We'll use the model: sentence-transformers/all-MiniLM-L6-v2\n"
     ]
    }
   ],
   "source": [
    "model_name = \"sentence-transformers/all-MiniLM-L6-v2\"\n",
    "print(f\"We'll use the model: {model_name}\")"
   ]
  },
  {
   "cell_type": "code",
   "execution_count": 4,
   "id": "6e24d8db-168b-469e-a540-1a3e193e3034",
   "metadata": {},
   "outputs": [],
   "source": [
    "tokenizer = AutoTokenizer.from_pretrained(model_name)\n",
    "model = AutoModel.from_pretrained(model_name).to(device)"
   ]
  },
  {
   "cell_type": "code",
   "execution_count": 6,
   "id": "490861b4-1b83-4489-b8c9-600d239e44d6",
   "metadata": {},
   "outputs": [],
   "source": [
    "texts = [\n",
    "    \"Artificial intelligence is revolutionizing many fields.\",\n",
    "    \"Deep learning models require large amounts of data.\",\n",
    "    \"PyTorch is a popular framework for machine learning.\",\n",
    "    \"Transformers have improved natural language processing significantly.\",\n",
    "    \"Retrieval augmented generation enhances language models with external knowledge.\"\n",
    "]"
   ]
  },
  {
   "cell_type": "code",
   "execution_count": 7,
   "id": "f2168e5c-80e3-40d1-873b-c5d2cdf9d427",
   "metadata": {},
   "outputs": [],
   "source": [
    "def get_embeddings(texts, tokenizer, model):\n",
    "    encoded_inputs = tokenizer(texts, padding=True, truncation=True, return_tensors=\"pt\").to(device)\n",
    "    with torch.no_grad():\n",
    "        outputs = model(**encoded_inputs)\n",
    "    token_embeddings = outputs.last_hidden_state\n",
    "    embeddings = torch.mean(token_embeddings, dim=1)\n",
    "    return embeddings.cpu().numpy()"
   ]
  },
  {
   "cell_type": "code",
   "execution_count": 10,
   "id": "26b91d9a-03b3-40c8-bcc3-0c2f5c3d96a1",
   "metadata": {},
   "outputs": [],
   "source": [
    "from sklearn.decomposition import PCA"
   ]
  },
  {
   "cell_type": "code",
   "execution_count": 23,
   "id": "1269c0ea-a8cd-4310-a8ad-fab127b1b7c2",
   "metadata": {},
   "outputs": [],
   "source": [
    "embeddings = get_embeddings(texts, tokenizer, model)"
   ]
  },
  {
   "cell_type": "code",
   "execution_count": 24,
   "id": "7753b4aa-76f3-4348-82dd-ca759f8fd101",
   "metadata": {},
   "outputs": [],
   "source": [
    "pca = PCA(n_components=2)\n",
    "reduced_embeddings = pca.fit_transform(embeddings)"
   ]
  },
  {
   "cell_type": "code",
   "execution_count": 30,
   "id": "78cab5cd-d437-4148-b83b-8cf5f550e0f2",
   "metadata": {},
   "outputs": [
    {
     "data": {
      "image/png": "[encoded data removed]",
      "text/plain": [
       "<Figure size 500x300 with 1 Axes>"
      ]
     },
     "metadata": {},
     "output_type": "display_data"
    }
   ],
   "source": [
    "plt.figure(figsize=(5, 3))\n",
    "plt.scatter(reduced_embeddings[:, 0], reduced_embeddings[:, 1], marker='o', s=100)\n",
    "for i, text in enumerate(texts):\n",
    "    plt.annotate(text,(reduced_embeddings[i, 0], reduced_embeddings[i, 1]),fontsize =5)"
   ]
  },
  {
   "cell_type": "markdown",
   "id": "bae97ae1-ec24-4ad5-87ce-3522a59c25ca",
   "metadata": {},
   "source": [
    "# Vector database"
   ]
  },
  {
   "cell_type": "code",
   "execution_count": 31,
   "id": "cba83123-6790-43b2-ae7c-1e90f5d00071",
   "metadata": {},
   "outputs": [],
   "source": [
    "vector_db = {\n",
    "    \"texts\": texts,\n",
    "    \"embeddings\": embeddings\n",
    "}"
   ]
  },
  {
   "cell_type": "code",
   "execution_count": 32,
   "id": "5b51b047-5cbe-4bfe-a41a-cce97e393ae1",
   "metadata": {},
   "outputs": [],
   "source": [
    "def cosine_similarity(a, b):\n",
    "    return np.dot(a, b) / (np.linalg.norm(a) * np.linalg.norm(b))"
   ]
  },
  {
   "cell_type": "code",
   "execution_count": 33,
   "id": "13af96c6-f629-4458-9733-7d1a3a016a36",
   "metadata": {},
   "outputs": [],
   "source": [
    "query = \"How does PyTorch help with machine learning?\""
   ]
  },
  {
   "cell_type": "code",
   "execution_count": 34,
   "id": "32d1a8e8-6853-4766-b7d5-037acb21ad41",
   "metadata": {},
   "outputs": [],
   "source": [
    "query_embedding = get_embeddings([query], tokenizer, model)[0]"
   ]
  },
  {
   "cell_type": "code",
   "execution_count": 35,
   "id": "6c4cf2d3-a7d8-45a5-83ff-2165b8859185",
   "metadata": {},
   "outputs": [],
   "source": [
    "similarities = []\n",
    "for i, doc_embeddings in enumerate(vector_db[\"embeddings\"]):\n",
    "    similarity = cosine_similarity(query_embedding, doc_embeddings)\n",
    "    similarities.append((i, similarity, vector_db[\"texts\"][i]))"
   ]
  },
  {
   "cell_type": "code",
   "execution_count": 36,
   "id": "597ea9a4-6ba6-4485-aec9-58208f7a488c",
   "metadata": {},
   "outputs": [],
   "source": [
    "similarities.sort(key=lambda x: x[1], reverse=True)"
   ]
  },
  {
   "cell_type": "code",
   "execution_count": 37,
   "id": "7e9046ac-8fbe-48f9-9482-16cf5659e22f",
   "metadata": {},
   "outputs": [
    {
     "name": "stdout",
     "output_type": "stream",
     "text": [
      "[(2, 0.84676296, 'PyTorch is a popular framework for machine learning.'), (1, 0.368322, 'Deep learning models require large amounts of data.'), (0, 0.30993575, 'Artificial intelligence is revolutionizing many fields.'), (3, 0.20796952, 'Transformers have improved natural language processing significantly.'), (4, 0.16769734, 'Retrieval augmented generation enhances language models with external knowledge.')]\n"
     ]
    }
   ],
   "source": [
    "print(similarities)"
   ]
  },
  {
   "cell_type": "code",
   "execution_count": null,
   "id": "7e99cfd4-10c6-44a3-9d62-e367abb66e36",
   "metadata": {},
   "outputs": [],
   "source": []
  },
  {
   "cell_type": "code",
   "execution_count": null,
   "id": "af3a1487-16be-4f13-8952-50fb14a7d751",
   "metadata": {},
   "outputs": [],
   "source": []
  },
  {
   "cell_type": "code",
   "execution_count": null,
   "id": "bc6f24a4-644a-4664-9ce2-4db92b4f4cad",
   "metadata": {},
   "outputs": [],
   "source": []
  }
 ],
 "metadata": {
  "kernelspec": {
   "display_name": "Python 3 (ipykernel)",
   "language": "python",
   "name": "python3"
  },
  "language_info": {
   "codemirror_mode": {
    "name": "ipython",
    "version": 3
   },
   "file_extension": ".py",
   "mimetype": "text/x-python",
   "name": "python",
   "nbconvert_exporter": "python",
   "pygments_lexer": "ipython3",
   "version": "3.12.7"
  }
 },
 "nbformat": 4,
 "nbformat_minor": 5
}
